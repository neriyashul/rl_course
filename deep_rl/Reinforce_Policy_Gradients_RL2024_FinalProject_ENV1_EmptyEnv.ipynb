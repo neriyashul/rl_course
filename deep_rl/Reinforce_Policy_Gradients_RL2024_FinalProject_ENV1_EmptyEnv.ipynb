{
  "cells": [
    {
      "cell_type": "markdown",
      "metadata": {
        "id": "SLapsBtwOO6m"
      },
      "source": [
        "# Mid Semester Project - DEEP Reinforcements Learning\n",
        "# ENV1 - EMPTY GRID ENVIRONMENT\n",
        "Dear students,<br> this is the template notebook. Please copy it by clicking on the \"File\" tab and then on \"Save a copy into drive\".\n",
        "\n",
        "---\n",
        "<br>\n",
        "\n",
        "### Name and ID:\n",
        "Student 1:\n",
        "<br>\n",
        "Student 2:\n",
        "<br><br>\n",
        "<img src=\"https://raw.githubusercontent.com/Farama-Foundation/Minigrid/master/minigrid-text.png\">\n",
        "\n",
        "### https://minigrid.farama.org/"
      ]
    },
    {
      "cell_type": "markdown",
      "metadata": {
        "id": "4-OzvtfyOYL8"
      },
      "source": [
        "# Pre-Requisit"
      ]
    },
    {
      "cell_type": "markdown",
      "metadata": {
        "id": "fUNptoCrObZs"
      },
      "source": [
        "## Installs"
      ]
    },
    {
      "cell_type": "code",
      "execution_count": 3,
      "metadata": {
        "id": "-YTEVlS-OAQ-"
      },
      "outputs": [],
      "source": [
        "# %%capture\n",
        "# !sudo apt-get update\n",
        "# !sudo apt-get install -y xvfb ffmpeg freeglut3-dev\n",
        "# !pip install 'imageio==2.4.0'\n",
        "# !pip install gym\n",
        "# !pip install gym-minigrid\n",
        "# !pip install pygame\n",
        "# !apt-get install python-opengl -y\n",
        "# !apt install xvfb -y\n",
        "# !pip install pyvirtualdisplay\n",
        "# !pip install piglet\n",
        "# !pip install gym\n",
        "# !apt-get install python-opengl -y\n",
        "# !apt install xvfb -y\n",
        "# !pip install -U --no-cache-dir gdown --pre"
      ]
    },
    {
      "cell_type": "markdown",
      "metadata": {
        "id": "SEFhAxcrOhB1"
      },
      "source": [
        "## Imports"
      ]
    },
    {
      "cell_type": "code",
      "execution_count": 4,
      "metadata": {
        "colab": {
          "base_uri": "https://localhost:8080/"
        },
        "id": "RM8i62VoOnA-",
        "outputId": "408240b2-9e5e-470c-bae3-04f5a72f6b88"
      },
      "outputs": [
        {
          "name": "stderr",
          "output_type": "stream",
          "text": [
            "/Users/neriya.shulman/Desktop/neriya/projects/rl/deep_rl/venv/lib/python3.11/site-packages/gym/envs/registration.py:307: DeprecationWarning: The package name gym_minigrid has been deprecated in favor of minigrid. Please uninstall gym_minigrid and install minigrid with `pip install minigrid`. Future releases will be maintained under the new package name minigrid.\n",
            "  fn()\n"
          ]
        },
        {
          "data": {
            "text/plain": [
              "<torch._C.Generator at 0x333a243b0>"
            ]
          },
          "execution_count": 4,
          "metadata": {},
          "output_type": "execute_result"
        }
      ],
      "source": [
        "import numpy as np\n",
        "import gym\n",
        "from gym import logger as gymlogger\n",
        "from gym.utils import seeding\n",
        "from gym import error, spaces, utils\n",
        "gymlogger.set_level(40) # error only\n",
        "import glob\n",
        "import io\n",
        "import base64\n",
        "import os\n",
        "import random\n",
        "import matplotlib.pyplot as plt\n",
        "%matplotlib inline\n",
        "plt.rcParams['figure.figsize'] = (10.0, 8.0) # set default size of plots\n",
        "plt.rcParams['image.interpolation'] = 'nearest'\n",
        "plt.rcParams['image.cmap'] = 'gray'\n",
        "%load_ext autoreload\n",
        "%autoreload 2\n",
        "import math\n",
        "import glob\n",
        "from pyvirtualdisplay import Display\n",
        "from IPython.display import HTML\n",
        "from IPython import display as ipythondisplay\n",
        "import pygame\n",
        "import pyvirtualdisplay\n",
        "import imageio\n",
        "import IPython\n",
        "import time\n",
        "import cv2\n",
        "import numpy as np\n",
        "import matplotlib.pyplot as plt\n",
        "from collections import deque\n",
        "\n",
        "import torch\n",
        "import torch.nn as nn\n",
        "import torch.nn.functional as F\n",
        "import torch.optim as optim\n",
        "from torch.distributions import Categorical\n",
        "torch.manual_seed(0) # TODO: remove it"
      ]
    },
    {
      "cell_type": "code",
      "execution_count": 5,
      "metadata": {},
      "outputs": [
        {
          "name": "stdout",
          "output_type": "stream",
          "text": [
            "tensor([1.], device='mps:0')\n"
          ]
        }
      ],
      "source": [
        "# TODO: remove the block\n",
        "if torch.backends.mps.is_available():\n",
        "    mps_device = torch.device(\"mps\")\n",
        "    x = torch.ones(1, device=mps_device)\n",
        "    print (x)\n",
        "else:\n",
        "    print (\"MPS device not found.\")\n"
      ]
    },
    {
      "cell_type": "markdown",
      "metadata": {
        "id": "LnksgjjqOq02"
      },
      "source": [
        "## Display utils\n",
        "The cell below contains the video display configuration. No need to make changes here."
      ]
    },
    {
      "cell_type": "code",
      "execution_count": 6,
      "metadata": {
        "id": "ceUl4Q9JOzpO"
      },
      "outputs": [],
      "source": [
        "def embed_mp4(filename):\n",
        "  \"\"\"Embeds an mp4 file in the notebook.\"\"\"\n",
        "  video = open(filename,'rb').read()\n",
        "  b64 = base64.b64encode(video)\n",
        "  tag = '''\n",
        "  <video width=\"640\" height=\"480\" controls>\n",
        "    <source src=\"data:video/mp4;base64,{0}\" type=\"video/mp4\">\n",
        "  Your browser does not support the video tag.\n",
        "  </video>'''.format(b64.decode())\n",
        "\n",
        "  return IPython.display.HTML(tag)\n",
        "# TODO: uncomment\n",
        "# display = pyvirtualdisplay.Display(visible=0, size=(1400, 900)).start()"
      ]
    },
    {
      "cell_type": "markdown",
      "metadata": {
        "id": "bvDlMYrxO4-7"
      },
      "source": [
        "#Env1 - Empty Env"
      ]
    },
    {
      "cell_type": "markdown",
      "metadata": {
        "id": "P34xWJJpOmQn"
      },
      "source": [
        "## Class Env"
      ]
    },
    {
      "cell_type": "code",
      "execution_count": 7,
      "metadata": {
        "id": "uhkmk0Y5PCVZ"
      },
      "outputs": [],
      "source": [
        "from __future__ import annotations\n",
        "from gym_minigrid.minigrid import COLOR_NAMES\n",
        "from gym_minigrid.minigrid import Grid\n",
        "from gym_minigrid.minigrid import MissionSpace\n",
        "from gym_minigrid.minigrid import Door, Goal, Key, Wall, Lava, Floor\n",
        "from minigrid_x import MiniGridEnv\n",
        "from gym import spaces\n",
        "import random\n",
        "\n",
        "class RandomEmptyEnv_10(MiniGridEnv):\n",
        "    def __init__(\n",
        "        self,\n",
        "        size=10, # DEFINE THE WIDTH AND HEIGHT\n",
        "        agent_start_pos=(1, 1),\n",
        "        agent_start_dir = 0,\n",
        "        max_steps: int | None = None,\n",
        "        **kwargs,\n",
        "    ):\n",
        "\n",
        "        self.agent_start_pos = agent_start_pos\n",
        "        self.agent_start_dir = agent_start_dir\n",
        "\n",
        "        agent_start_x_loc =random.randint(1, 6)\n",
        "        agent_start_y_loc =random.randint(1, 6)\n",
        "\n",
        "        self.agent_start_pos = (agent_start_x_loc,agent_start_y_loc)\n",
        "\n",
        "        mission_space = MissionSpace(mission_func=self._gen_mission)\n",
        "\n",
        "        if max_steps is None:\n",
        "            max_steps = 4 * size**2\n",
        "\n",
        "        super().__init__(\n",
        "            mission_space=mission_space,\n",
        "            grid_size=size,\n",
        "            # Set this to True for maximum speed\n",
        "            see_through_walls=True,\n",
        "            max_steps=max_steps,\n",
        "            **kwargs,\n",
        "        )\n",
        "        self.action_space = spaces.Discrete(3)\n",
        "        self.walls_init = []\n",
        "\n",
        "        # change 21-09 for random env\n",
        "        self.not_goal_loc = [(col,row) for col in range(self.unwrapped.width) for row in range(self.unwrapped.height) if row == 0 or row == (self.unwrapped.width-1) or col == 0 or col == (self.unwrapped.height-1)]\n",
        "        self.not_goal_loc.append(self.agent_start_pos)\n",
        "        self.goal_pos = (self.grid.width - 2, self.grid.height - 2)\n",
        "\n",
        "    def reset(self, **kwargs):\n",
        "        # Randomize start position each time environment is reset\n",
        "        agent_start_x_loc = random.randint(1, 6)\n",
        "        agent_start_y_loc = random.randint(1, 6)\n",
        "        self.agent_start_pos = (agent_start_x_loc, agent_start_y_loc)\n",
        "\n",
        "        self.values = [0, 1, 2, 3]\n",
        "        self.agent_start_dir = random.choice(self.values)\n",
        "\n",
        "        # Recalculate not_goal_loc as it depends on the agent's start position\n",
        "        self.not_goal_loc = [(col, row) for col in range(self.unwrapped.width) for row in range(self.unwrapped.height)\n",
        "                             if row == 0 or row == (self.unwrapped.width - 1) or col == 0 or col == (self.unwrapped.height - 1)]\n",
        "        self.not_goal_loc.append(self.agent_start_pos)\n",
        "\n",
        "        # Call the reset method of the parent class\n",
        "        return super().reset(**kwargs)\n",
        "\n",
        "    @staticmethod\n",
        "    def _gen_mission():\n",
        "        return \"grand mission\"\n",
        "\n",
        "    def _gen_grid(self, width, height):\n",
        "        # Create an empty grid\n",
        "        self.grid = Grid(width, height)\n",
        "\n",
        "        # Generate the surrounding walls\n",
        "        self.grid.wall_rect(0, 0, width, height)\n",
        "\n",
        "        # Generate verical separation wall\n",
        "        # for i in range(0, height):\n",
        "        #     self.grid.set(5, i, Wall())\n",
        "\n",
        "\n",
        "        for column, row in self.walls_init:\n",
        "          self.grid.set(column, row, Wall())\n",
        "\n",
        "        self.key_pos = (6, 5)\n",
        "        self.door_pos = (6, 7)\n",
        "\n",
        "        self.goal_pos = random.choice([(8,1), (8,8), (1,8)])\n",
        "\n",
        "        self.put_obj(Goal(), self.goal_pos[0], self.goal_pos[1])\n",
        "\n",
        "        # Place the agent\n",
        "        if self.agent_start_pos is not None:\n",
        "            self.agent_pos = self.agent_start_pos\n",
        "            self.agent_dir = self.agent_start_dir\n",
        "        else:\n",
        "            self.place_agent()\n",
        "\n",
        "        self.mission = \"grand mission\"\n"
      ]
    },
    {
      "cell_type": "markdown",
      "metadata": {
        "id": "UpLk4aRJPGFT"
      },
      "source": [
        "## WRAPPER"
      ]
    },
    {
      "cell_type": "code",
      "execution_count": 8,
      "metadata": {
        "id": "9KRuCLDBPKRd"
      },
      "outputs": [],
      "source": [
        "class EMPTYRGBImgObsWrapper(gym.core.ObservationWrapper):\n",
        "    \"\"\"\n",
        "    Wrapper to use fully observable RGB image as the only observation output,\n",
        "    no language/mission. This can be used to have the agent to solve the\n",
        "    gridworld in pixel space.\n",
        "    \"\"\"\n",
        "\n",
        "    def __init__(self, env, tile_size=32, plot=False, preprocess= lambda x: x):\n",
        "        super().__init__(env)\n",
        "        self.tile_size = tile_size\n",
        "        self.plot = plot\n",
        "        self.observation_space = spaces.Box(\n",
        "            low=0,\n",
        "            high=255,\n",
        "            # #the default is (320,320,3). Tile size  = 32 X 10 (grid size)\n",
        "            # TODO: BE CAREFULL TO CHANGE the shape size to be according your preprocess size/channels\n",
        "            # The env information i staken from here\n",
        "            shape=(320, 320, 3),\n",
        "            dtype='uint8'\n",
        "        )\n",
        "        self.prev_door = False\n",
        "        self.prev_key = False\n",
        "        self.action_space = spaces.Discrete(self.action_space.n)\n",
        "\n",
        "        #TODO: THINK AND TEST DIFFERENT PREPROCESS\n",
        "        self._preprocess = lambda x: x\n",
        "\n",
        "\n",
        "    def observation(self, obs):\n",
        "      env = self.unwrapped\n",
        "\n",
        "      # Call render without any unsupported keyword arguments\n",
        "      rgb_img = env.render()  # Use the default rendering behavior\n",
        "      return rgb_img\n",
        "\n",
        "    def reset(self, seed = 0, options = None):\n",
        "        self.prev_door = False\n",
        "        self.prev_key = False\n",
        "        obs, info = super().reset()\n",
        "        if self.plot:\n",
        "            plt.show()\n",
        "        return self._preprocess(obs), info\n",
        "\n",
        "    def step(self, action):\n",
        "        #action = ACTION_MAP[action]\n",
        "        obs, r, d, info, x = super().step(action)\n",
        "        obs = self._preprocess(obs)\n",
        "\n",
        "        # TODO: REWARD SHAPING\n",
        "        #we encourage you to come up with a better reward function using  self.is_door_open() and self.is_carrying_key()\n",
        "\n",
        "        return obs, r, d, info, x"
      ]
    },
    {
      "cell_type": "markdown",
      "metadata": {
        "id": "TPwDWTIIPNXB"
      },
      "source": [
        "## Env Info"
      ]
    },
    {
      "cell_type": "code",
      "execution_count": 9,
      "metadata": {
        "colab": {
          "base_uri": "https://localhost:8080/",
          "height": 716
        },
        "id": "tI8qzBErPQRl",
        "outputId": "85978366-6294-4741-e7f2-1039c714b073"
      },
      "outputs": [
        {
          "name": "stdout",
          "output_type": "stream",
          "text": [
            "(320, 320, 3)\n"
          ]
        },
        {
          "data": {
            "text/plain": [
              "<matplotlib.image.AxesImage at 0x330b5c190>"
            ]
          },
          "execution_count": 9,
          "metadata": {},
          "output_type": "execute_result"
        },
        {
          "data": {
            "image/png": "[encoded data removed]",
            "text/plain": [
              "<Figure size 1000x800 with 1 Axes>"
            ]
          },
          "metadata": {},
          "output_type": "display_data"
        }
      ],
      "source": [
        "env = EMPTYRGBImgObsWrapper(RandomEmptyEnv_10 (render_mode='rgb_array'))\n",
        "obs = env.reset()[0]\n",
        "print(obs.shape)\n",
        "screen = env.render()\n",
        "plt.imshow(screen)"
      ]
    },
    {
      "cell_type": "code",
      "execution_count": 10,
      "metadata": {
        "colab": {
          "base_uri": "https://localhost:8080/"
        },
        "id": "w2ZqbGwLPQY8",
        "outputId": "1b739c58-3182-4226-c217-6694b8d40484"
      },
      "outputs": [
        {
          "name": "stdout",
          "output_type": "stream",
          "text": [
            "Number of actions: 3\n",
            "State size is: (320, 320, 3)\n"
          ]
        }
      ],
      "source": [
        "state_size = obs.shape  # Replace with your actual state size\n",
        "action_space = env.action_space\n",
        "num_actions = action_space.n\n",
        "print(f\"Number of actions: {num_actions}\")\n",
        "print(f\"State size is: {state_size}\")"
      ]
    },
    {
      "cell_type": "markdown",
      "metadata": {
        "id": "lCZavukkPVcs"
      },
      "source": [
        "## Random action"
      ]
    },
    {
      "cell_type": "code",
      "execution_count": 11,
      "metadata": {
        "colab": {
          "base_uri": "https://localhost:8080/",
          "height": 519
        },
        "id": "al8T5jyyPZhf",
        "outputId": "4c0ca72c-baaa-4442-a312-793a5fd06dce"
      },
      "outputs": [
        {
          "data": {
            "text/html": [
              "\n",
              "  <video width=\"640\" height=\"480\" controls>\n",
              "    <source src=\"data:video/mp4;base64,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\" type=\"video/mp4\">\n",
              "  Your browser does not support the video tag.\n",
              "  </video>"
            ],
            "text/plain": [
              "<IPython.core.display.HTML object>"
            ]
          },
          "execution_count": 11,
          "metadata": {},
          "output_type": "execute_result"
        }
      ],
      "source": [
        "env = EMPTYRGBImgObsWrapper(RandomEmptyEnv_10 (render_mode='rgb_array'))\n",
        "obs = env.reset()\n",
        "# video_filename = '/content/vid.mp4' # TODO: uncomment\n",
        "video_filename = 'dl/vid.mp4'\n",
        "max_steps = 100\n",
        "# Evaluation\n",
        "with imageio.get_writer(video_filename, fps=10) as video:\n",
        "  obs = env.reset()\n",
        "  done = False\n",
        "  total_reward = 0\n",
        "  for step in range(max_steps):\n",
        "      action = env.action_space.sample()\n",
        "      obs, reward, done, _, _ = env.step(action)\n",
        "      next_obs = obs  # Get agent's position directly from the environment\n",
        "      video.append_data(env.render())\n",
        "      if done:\n",
        "        print(\"done\",\"reward=\", total_reward,\"num_of_steps=\",step)\n",
        "        break\n",
        "embed_mp4(video_filename)"
      ]
    },
    {
      "cell_type": "markdown",
      "metadata": {},
      "source": [
        "# Our Solution:"
      ]
    },
    {
      "cell_type": "code",
      "execution_count": 12,
      "metadata": {},
      "outputs": [],
      "source": [
        "# TODO: change base path\n",
        "base_dir = \"./\"\n",
        "# base_dir = \"/content/\""
      ]
    },
    {
      "cell_type": "markdown",
      "metadata": {},
      "source": [
        "### Our Wrapper"
      ]
    },
    {
      "cell_type": "code",
      "execution_count": 13,
      "metadata": {},
      "outputs": [],
      "source": [
        "class PreprocessWrapper(EMPTYRGBImgObsWrapper):\n",
        "    \"\"\"\n",
        "    Wrapper to use fully observable RGB image as the only observation output,\n",
        "    no language/mission. This can be used to have the agent to solve the\n",
        "    gridworld in pixel space.\n",
        "    \"\"\"\n",
        "\n",
        "    def __init__(self, env, resize_shape=(144, 144)):\n",
        "        super().__init__(env)\n",
        "        self.resize_shape = resize_shape\n",
        "        self.observation_space = spaces.Box(\n",
        "            low=0,\n",
        "            high=255,\n",
        "            shape=(1, self.resize_shape[0], self.resize_shape[1]),  # Grayscale image\n",
        "            dtype='uint8'\n",
        "        )\n",
        "        self._preprocess = lambda x: PreprocessWrapper._preprocess(self, x)\n",
        "\n",
        "    def _preprocess(self, obs):\n",
        "        # crop the outer frame of the image and convert to grayscale\n",
        "        cropped_obs = obs[32:-31, 32:-31]\n",
        "        obs_gray = cv2.cvtColor(cropped_obs, cv2.COLOR_RGB2GRAY)\n",
        "        \n",
        "        red_mask = np.all(cropped_obs == [0, 0, 255], axis=-1)  # Check for red pixels (BGR format)\n",
        "        blue_mask = np.all(cropped_obs == [255, 0, 0], axis=-1)  # Check for blue pixels (BGR format)\n",
        "        obs_gray[red_mask] = 100  # Replace red pixels with 0\n",
        "        obs_gray[blue_mask] = 255  # Replace blue pixels with 0\n",
        "        obs_resized = cv2.resize(obs_gray, self.resize_shape)\n",
        "        # obs_resized = cv2.resize(obs_gray, self.resize_shape, interpolation=cv2.INTER_NEAREST) #  TODO: remove it \n",
        "\n",
        "        # Add channel dimension to make it (H, W, 1)\n",
        "        obs_resized = np.expand_dims(obs_resized, axis=0)\n",
        "        return obs_resized\n",
        "\n",
        "    def step(self, action):\n",
        "        #action = ACTION_MAP[action]\n",
        "        obs, r, d, info, x = super().step(action)\n",
        "        if r > 0:\n",
        "            r = 5000 # agent reach the goal\n",
        "        else:\n",
        "            r = -0.1\n",
        "        return obs, r, d, info, x"
      ]
    },
    {
      "cell_type": "code",
      "execution_count": 14,
      "metadata": {},
      "outputs": [
        {
          "name": "stdout",
          "output_type": "stream",
          "text": [
            "original obs.shape is (320, 320, 3)\n",
            "obs.shape is (1, 144, 144)\n"
          ]
        },
        {
          "data": {
            "text/plain": [
              "<matplotlib.image.AxesImage at 0x33cf6a690>"
            ]
          },
          "execution_count": 14,
          "metadata": {},
          "output_type": "execute_result"
        },
        {
          "data": {
            "image/png": "[encoded data removed]",
            "text/plain": [
              "<Figure size 1000x800 with 1 Axes>"
            ]
          },
          "metadata": {},
          "output_type": "display_data"
        }
      ],
      "source": [
        "env = EMPTYRGBImgObsWrapper(RandomEmptyEnv_10 (render_mode='rgb_array'))\n",
        "obs = env.reset()[0]\n",
        "\n",
        "print(f'original obs.shape is {obs.shape}')\n",
        "env = PreprocessWrapper(env)\n",
        "obs = env.reset()[0]\n",
        "obs = env.step(0)[0]\n",
        "print(f'obs.shape is {obs.shape}')\n",
        "plt.imshow(obs[0], cmap='gray')"
      ]
    },
    {
      "cell_type": "markdown",
      "metadata": {},
      "source": [
        "### Network"
      ]
    },
    {
      "cell_type": "code",
      "execution_count": 15,
      "metadata": {},
      "outputs": [
        {
          "name": "stdout",
          "output_type": "stream",
          "text": [
            "Number of actions: 3\n",
            "State size is: (1, 144, 144)\n"
          ]
        }
      ],
      "source": [
        "state_size = obs.shape  # Replace with your actual state size\n",
        "action_space = env.action_space\n",
        "num_actions = action_space.n\n",
        "print(f\"Number of actions: {num_actions}\")\n",
        "print(f\"State size is: {state_size}\")\n",
        "action_size = num_actions"
      ]
    },
    {
      "cell_type": "markdown",
      "metadata": {},
      "source": [
        "Unlike value-based method, the output of policy-based method is the probability of each action. It can be represented as policy. So activation function of output layer will be softmax, not ReLU.\n"
      ]
    },
    {
      "cell_type": "code",
      "execution_count": 16,
      "metadata": {},
      "outputs": [
        {
          "name": "stdout",
          "output_type": "stream",
          "text": [
            "(1, 144, 144)\n",
            "input shape: (1, 144, 144)\n",
            "PolicyNetwork(\n",
            "  (conv): Sequential(\n",
            "    (0): Conv2d(1, 32, kernel_size=(8, 8), stride=(4, 4))\n",
            "    (1): ReLU()\n",
            "    (2): Conv2d(32, 64, kernel_size=(4, 4), stride=(2, 2))\n",
            "    (3): ReLU()\n",
            "    (4): Conv2d(64, 64, kernel_size=(3, 3), stride=(1, 1))\n",
            "    (5): ReLU()\n",
            "  )\n",
            "  (fc): Sequential(\n",
            "    (0): Linear(in_features=12544, out_features=128, bias=True)\n",
            "    (1): ReLU()\n",
            "    (2): Dropout(p=0.6, inplace=False)\n",
            "    (3): Linear(in_features=128, out_features=3, bias=True)\n",
            "    (4): Softmax(dim=-1)\n",
            "  )\n",
            ")\n"
          ]
        }
      ],
      "source": [
        "\n",
        "class PolicyNetwork(nn.Module):\n",
        "    def __init__(self, state_shape, action_size, seed):\n",
        "        super(PolicyNetwork, self).__init__()\n",
        "        self.seed = torch.manual_seed(seed)\n",
        "        print(state_shape)\n",
        "        # self.conv = nn.Sequential(\n",
        "        #     nn.Conv2d(1, 32, kernel_size=3, stride=1),\n",
        "        #     nn.ReLU(),\n",
        "        #     nn.MaxPool2d(kernel_size=2, stride=2),\n",
        "        #     nn.Conv2d(32, 64, kernel_size=3, stride=1),\n",
        "        #     nn.ReLU(),\n",
        "        #     nn.MaxPool2d(kernel_size=2, stride=2),\n",
        "        #     nn.Conv2d(64, 64, kernel_size=3, stride=1),\n",
        "        #     nn.ReLU(),\n",
        "        #     nn.MaxPool2d(kernel_size=2, stride=2)\n",
        "        # )\n",
        "        \n",
        "        self.conv = nn.Sequential(\n",
        "            nn.Conv2d(1, 32, kernel_size=8, stride=4),\n",
        "            nn.ReLU(),\n",
        "            nn.Conv2d(32, 64, kernel_size=4, stride=2),\n",
        "            nn.ReLU(),\n",
        "            nn.Conv2d(64, 64, kernel_size=3, stride=1),\n",
        "            nn.ReLU()\n",
        "        )\n",
        "        print(f'input shape: {state_shape}')\n",
        "        dummy_input = torch.zeros(1, *state_shape)\n",
        "        conv_out_size = self.conv(dummy_input).view(1, -1).size(1)\n",
        "        \n",
        "        # self.fc = nn.Sequential(\n",
        "        #     nn.Linear(conv_out_size, 512),\n",
        "        #     nn.ReLU(),\n",
        "        #     nn.Linear(512, 32),\n",
        "        #     nn.ReLU(),\n",
        "        #     nn.Dropout(),\n",
        "        #     nn.Linear(32, action_size),\n",
        "        #     # nn.Linear(512, action_size),\n",
        "        #     nn.Softmax(dim=-1)\n",
        "        # )\n",
        "        \n",
        "        self.fc = nn.Sequential(\n",
        "            nn.Linear(conv_out_size, 128),\n",
        "            nn.ReLU(),\n",
        "            nn.Dropout(p=0.6),\n",
        "            nn.Linear(128, action_size),\n",
        "            nn.Softmax(dim=-1)\n",
        "        )\n",
        "\n",
        "    def forward(self, state):\n",
        "        conv_out = self.conv(state).view(state.size()[0], -1)\n",
        "        return self.fc(conv_out)\n",
        "\n",
        "    def run(self, state):\n",
        "        # Automatically use the device of the model's parameters\n",
        "        device = next(self.parameters()).device\n",
        "        state = torch.from_numpy(state).float().to(device)\n",
        "        # state = torch.from_numpy(state).float().unsqueeze(0).to(device)\n",
        "        probs = self.forward(state)\n",
        "        m = Categorical(probs)\n",
        "        action = m.sample()\n",
        "        \n",
        "        return action.item(), m.log_prob(action)\n",
        "    \n",
        "model = PolicyNetwork(state_size, action_size, 0)\n",
        "print(model)\n"
      ]
    },
    {
      "cell_type": "markdown",
      "metadata": {},
      "source": [
        "Utils:"
      ]
    },
    {
      "cell_type": "code",
      "execution_count": 17,
      "metadata": {},
      "outputs": [],
      "source": [
        "def play_game_and_create_video(policy, video_output_file_name):\n",
        "  env = EMPTYRGBImgObsWrapper(RandomEmptyEnv_10 (render_mode='rgb_array'))\n",
        "  env = PreprocessWrapper(env)\n",
        "  obs = env.reset()[0]\n",
        "  max_steps = 100\n",
        "  # Evaluation\n",
        "  with imageio.get_writer(video_output_file_name, fps=10) as video:\n",
        "    obs = env.reset()[0]\n",
        "    state = obs\n",
        "    done = False\n",
        "    total_reward = 0\n",
        "    for step in range(max_steps):\n",
        "        action, _ = policy.run(state)\n",
        "        obs, reward, done, _, _ = env.step(action)\n",
        "        total_reward += reward\n",
        "        state = obs  # Get policy's position directly from the environment\n",
        "        video.append_data(env.render())\n",
        "        if done:\n",
        "          print(\"done\", \"reward=\", total_reward,\"num_of_steps=\", step)\n",
        "          break"
      ]
    },
    {
      "cell_type": "markdown",
      "metadata": {},
      "source": [
        "### Training"
      ]
    },
    {
      "cell_type": "code",
      "execution_count": 18,
      "metadata": {},
      "outputs": [],
      "source": [
        "\n",
        "def train(policy, optimizer, env, n_episodes, max_steps, discount, document_epsiodes=[]):\n",
        "    scores_window = deque(maxlen=100)\n",
        "    steps_window = deque(maxlen=100)\n",
        "    scores = []\n",
        "    steps = []\n",
        "    \n",
        "    for i_episode in range(1, n_episodes+1):\n",
        "        saved_log_probs = []\n",
        "        rewards = []\n",
        "        state, _ = env.reset()\n",
        "        for t in range(1, max_steps+1):\n",
        "            action, log_prob = policy.run(state)\n",
        "            saved_log_probs.append(log_prob)\n",
        "            state, reward, done, _, _ = env.step(action)\n",
        "            rewards.append(reward)\n",
        "            if done:\n",
        "                break\n",
        "        steps_window.append(t)\n",
        "        steps.append(t)\n",
        "        scores_window.append(sum(rewards))\n",
        "        scores.append(sum(rewards))\n",
        "\n",
        "        discounts = [discount**i for i in range(len(rewards)+1)]\n",
        "        R = sum([a*b for a,b in zip(discounts, rewards)])\n",
        "\n",
        "        policy_loss = []\n",
        "        for log_prob in saved_log_probs:\n",
        "            policy_loss.append(-log_prob * R)\n",
        "        policy_loss = torch.cat(policy_loss).sum()\n",
        "\n",
        "        optimizer.zero_grad()\n",
        "        policy_loss.backward()\n",
        "        optimizer.step()\n",
        "        print(f'\\rEpisode {i_episode}\\tAverage Score: {np.mean(scores_window):.8f}\\t Average Steps: {np.mean(steps_window):.3f}', end=\"\")\n",
        "        if i_episode % 100 == 0:\n",
        "            print(f'\\rEpisode {i_episode}\\tAverage Score: {np.mean(scores_window):.8f}\\t Average Steps: {np.mean(steps_window):.3f}')\n",
        "        if i_episode in document_epsiodes:\n",
        "            play_game_and_create_video(policy, os.path.join(base_dir, f'pg_vid_{i_episode}.mp4'))\n",
        "            \n",
        "    play_game_and_create_video(policy, os.path.join(base_dir, f'pg_vid_final.mp4'))\n",
        "    return scores, steps\n"
      ]
    },
    {
      "cell_type": "code",
      "execution_count": 19,
      "metadata": {},
      "outputs": [
        {
          "name": "stdout",
          "output_type": "stream",
          "text": [
            "Number of actions: 3\n",
            "State size is: (1, 144, 144)\n"
          ]
        }
      ],
      "source": [
        "state_size = obs.shape  # Replace with your actual state size\n",
        "action_space = env.action_space\n",
        "num_actions = action_space.n\n",
        "print(f\"Number of actions: {num_actions}\")\n",
        "print(f\"State size is: {state_size}\")\n",
        "action_size = num_actions"
      ]
    },
    {
      "cell_type": "markdown",
      "metadata": {},
      "source": [
        "Device configuration"
      ]
    },
    {
      "cell_type": "code",
      "execution_count": 20,
      "metadata": {},
      "outputs": [
        {
          "name": "stdout",
          "output_type": "stream",
          "text": [
            "mps\n"
          ]
        }
      ],
      "source": [
        "# TODO: delete it:\n",
        "mps_device = torch.device(\"mps\")\n",
        "device = mps_device # TODO: delete it:\n",
        "# device = torch.device(\"cuda\" if torch.cuda.is_available() else \"cpu\")\n",
        "print(device)"
      ]
    },
    {
      "cell_type": "markdown",
      "metadata": {},
      "source": [
        "Hyper parameters:"
      ]
    },
    {
      "cell_type": "code",
      "execution_count": 21,
      "metadata": {},
      "outputs": [],
      "source": [
        "DISCOUNT_FACTOR      =    0.96     # discount factor\n",
        "LEARNING_RATE        =    0.0001     # learning rate\n",
        "NUM_OF_EPISODE       =    5000     # number os episodes\n",
        "MAX_STEPS            =    140      # maximum steps"
      ]
    },
    {
      "cell_type": "markdown",
      "metadata": {},
      "source": [
        "Run"
      ]
    },
    {
      "cell_type": "code",
      "execution_count": 45,
      "metadata": {},
      "outputs": [
        {
          "name": "stdout",
          "output_type": "stream",
          "text": [
            "(1, 144, 144)\n",
            "input shape: (1, 144, 144)\n"
          ]
        },
        {
          "name": "stdout",
          "output_type": "stream",
          "text": [
            "Episode 100\tAverage Score: 3842.56500000\t Average Steps: 75.120\n",
            "done reward= 4996.0 num_of_steps= 40\n",
            "Episode 200\tAverage Score: 3943.20500000\t Average Steps: 68.740\n",
            "Episode 300\tAverage Score: 3842.04300000\t Average Steps: 80.340\n",
            "Episode 400\tAverage Score: 3691.95800000\t Average Steps: 81.160\n",
            "Episode 500\tAverage Score: 3941.83200000\t Average Steps: 82.470\n",
            "Episode 600\tAverage Score: 3541.48200000\t Average Steps: 85.890\n",
            "Episode 700\tAverage Score: 4143.03700000\t Average Steps: 70.460\n",
            "Episode 800\tAverage Score: 4494.35200000\t Average Steps: 57.380\n",
            "done reward= 4999.6 num_of_steps= 4\n",
            "Episode 900\tAverage Score: 4544.35500000\t Average Steps: 57.360\n",
            "Episode 1000\tAverage Score: 4795.03800000\t Average Steps: 50.580\n",
            "Episode 1100\tAverage Score: 4745.00900000\t Average Steps: 50.860\n",
            "Episode 1200\tAverage Score: 4895.80200000\t Average Steps: 42.960\n",
            "Episode 1300\tAverage Score: 4746.09400000\t Average Steps: 40.010\n",
            "Episode 1400\tAverage Score: 4445.09600000\t Average Steps: 49.930\n",
            "Episode 1500\tAverage Score: 4595.58100000\t Average Steps: 45.110\n",
            "Episode 1600\tAverage Score: 4746.31100000\t Average Steps: 37.840\n",
            "Episode 1700\tAverage Score: 4595.67800000\t Average Steps: 44.140\n",
            "Episode 1800\tAverage Score: 4846.53600000\t Average Steps: 35.610\n",
            "Episode 1900\tAverage Score: 4696.18500000\t Average Steps: 39.090\n",
            "Episode 2000\tAverage Score: 4496.26100000\t Average Steps: 38.290\n",
            "Episode 2100\tAverage Score: 4095.34100000\t Average Steps: 47.410\n",
            "Episode 2200\tAverage Score: 4746.53000000\t Average Steps: 35.650\n",
            "Episode 2300\tAverage Score: 4847.25000000\t Average Steps: 28.470\n",
            "Episode 2400\tAverage Score: 4797.07900000\t Average Steps: 30.170\n",
            "Episode 2500\tAverage Score: 4746.80500000\t Average Steps: 32.900\n",
            "Episode 2600\tAverage Score: 4395.87500000\t Average Steps: 42.130\n",
            "Episode 2700\tAverage Score: 4496.33500000\t Average Steps: 37.550\n",
            "Episode 2800\tAverage Score: 4746.69000000\t Average Steps: 34.050\n",
            "Episode 2900\tAverage Score: 4947.58200000\t Average Steps: 25.170\n",
            "Episode 3000\tAverage Score: 4796.79300000\t Average Steps: 33.030\n",
            "Episode 3100\tAverage Score: 4947.37600000\t Average Steps: 27.230\n",
            "Episode 3200\tAverage Score: 4997.40400000\t Average Steps: 26.960\n",
            "Episode 3300\tAverage Score: 4897.61700000\t Average Steps: 24.810\n",
            "Episode 3354\tAverage Score: 4998.10700000\t Average Steps: 19.930\n",
            "Episode 3355\tAverage Score: 4998.10600000\t Average Steps: 19.940\n",
            "Episode 3356\tAverage Score: 4998.11400000\t Average Steps: 19.860\n",
            "Episode 3357\tAverage Score: 4998.11500000\t Average Steps: 19.850\n",
            "Episode 3358\tAverage Score: 4998.12400000\t Average Steps: 19.760\n",
            "Episode 3359\tAverage Score: 4998.14100000\t Average Steps: 19.590\n",
            "Episode 3360\tAverage Score: 4998.13300000\t Average Steps: 19.670\n",
            "Episode 3361\tAverage Score: 4998.12400000\t Average Steps: 19.760\n",
            "Episode 3362\tAverage Score: 4998.13100000\t Average Steps: 19.690\n",
            "Episode 3363\tAverage Score: 4998.16400000\t Average Steps: 19.360\n",
            "Episode 3364\tAverage Score: 4998.17300000\t Average Steps: 19.270\n",
            "Episode 3365\tAverage Score: 4998.15500000\t Average Steps: 19.450\n",
            "Episode 3366\tAverage Score: 4998.15800000\t Average Steps: 19.420\n",
            "Episode 3367\tAverage Score: 4998.16300000\t Average Steps: 19.370\n",
            "Episode 3368\tAverage Score: 4998.15100000\t Average Steps: 19.490\n",
            "Episode 3369\tAverage Score: 4998.15600000\t Average Steps: 19.440\n",
            "Episode 3370\tAverage Score: 4998.14100000\t Average Steps: 19.590\n",
            "Episode 3371\tAverage Score: 4998.10900000\t Average Steps: 19.910\n",
            "Episode 3372\tAverage Score: 4998.13600000\t Average Steps: 19.640\n",
            "Episode 3373\tAverage Score: 4998.14400000\t Average Steps: 19.560\n",
            "Episode 3374\tAverage Score: 4998.14700000\t Average Steps: 19.530\n",
            "Episode 3375\tAverage Score: 4998.17300000\t Average Steps: 19.270\n",
            "Episode 3376\tAverage Score: 4998.16500000\t Average Steps: 19.350\n",
            "Episode 3377\tAverage Score: 4998.15600000\t Average Steps: 19.440\n",
            "Episode 3378\tAverage Score: 4998.14100000\t Average Steps: 19.590\n",
            "Episode 3379\tAverage Score: 4998.13400000\t Average Steps: 19.660\n",
            "Episode 3380\tAverage Score: 4998.15200000\t Average Steps: 19.480\n",
            "Episode 3381\tAverage Score: 4998.15400000\t Average Steps: 19.460\n",
            "Episode 3382\tAverage Score: 4998.14100000\t Average Steps: 19.590\n",
            "Episode 3383\tAverage Score: 4998.14800000\t Average Steps: 19.520\n",
            "Episode 3384\tAverage Score: 4998.15000000\t Average Steps: 19.500\n",
            "Episode 3385\tAverage Score: 4998.15400000\t Average Steps: 19.460\n",
            "Episode 3386\tAverage Score: 4998.17000000\t Average Steps: 19.300\n",
            "Episode 3387\tAverage Score: 4998.17200000\t Average Steps: 19.280\n",
            "Episode 3388\tAverage Score: 4998.16800000\t Average Steps: 19.320\n",
            "Episode 3389\tAverage Score: 4998.16400000\t Average Steps: 19.360\n",
            "Episode 3390\tAverage Score: 4998.17300000\t Average Steps: 19.270\n",
            "Episode 3391\tAverage Score: 4998.18200000\t Average Steps: 19.180\n",
            "Episode 3392\tAverage Score: 4998.18700000\t Average Steps: 19.130\n",
            "Episode 3393\tAverage Score: 4998.19100000\t Average Steps: 19.090\n",
            "Episode 3394\tAverage Score: 4998.17900000\t Average Steps: 19.210\n",
            "Episode 3395\tAverage Score: 4998.16600000\t Average Steps: 19.340\n",
            "Episode 3396\tAverage Score: 4998.18500000\t Average Steps: 19.150\n",
            "Episode 3397\tAverage Score: 4998.22200000\t Average Steps: 18.780\n",
            "Episode 3398\tAverage Score: 4998.25200000\t Average Steps: 18.480\n",
            "Episode 3399\tAverage Score: 4998.23400000\t Average Steps: 18.660\n",
            "Episode 3400\tAverage Score: 4998.22600000\t Average Steps: 18.740\n",
            "\n",
            "Episode 3401\tAverage Score: 4998.28000000\t Average Steps: 18.200\n",
            "Episode 3402\tAverage Score: 4998.25400000\t Average Steps: 18.460\n",
            "Episode 3403\tAverage Score: 4998.25100000\t Average Steps: 18.490\n",
            "Episode 3404\tAverage Score: 4998.19100000\t Average Steps: 19.090\n",
            "Episode 3405\tAverage Score: 4998.16900000\t Average Steps: 19.310\n",
            "Episode 3406\tAverage Score: 4998.15600000\t Average Steps: 19.440\n",
            "Episode 3407\tAverage Score: 4998.14900000\t Average Steps: 19.510\n",
            "Episode 3408\tAverage Score: 4998.14800000\t Average Steps: 19.520\n",
            "Episode 3409\tAverage Score: 4998.16200000\t Average Steps: 19.380\n",
            "Episode 3410\tAverage Score: 4998.15700000\t Average Steps: 19.430\n",
            "Episode 3411\tAverage Score: 4998.13600000\t Average Steps: 19.640\n",
            "Episode 3412\tAverage Score: 4998.15000000\t Average Steps: 19.500\n",
            "Episode 3413\tAverage Score: 4998.16200000\t Average Steps: 19.380\n",
            "Episode 3414\tAverage Score: 4998.15700000\t Average Steps: 19.430\n",
            "Episode 3415\tAverage Score: 4998.15100000\t Average Steps: 19.490\n",
            "Episode 3416\tAverage Score: 4998.15200000\t Average Steps: 19.480\n",
            "Episode 3417\tAverage Score: 4998.14100000\t Average Steps: 19.590\n",
            "Episode 3418\tAverage Score: 4998.13800000\t Average Steps: 19.620\n",
            "Episode 3419\tAverage Score: 4998.16200000\t Average Steps: 19.380\n",
            "Episode 3420\tAverage Score: 4998.14700000\t Average Steps: 19.530\n",
            "Episode 3421\tAverage Score: 4998.15800000\t Average Steps: 19.420\n",
            "Episode 3422\tAverage Score: 4998.11400000\t Average Steps: 19.860\n",
            "Episode 3423\tAverage Score: 4998.11000000\t Average Steps: 19.900\n",
            "Episode 3424\tAverage Score: 4998.10700000\t Average Steps: 19.930\n",
            "Episode 3425\tAverage Score: 4998.10700000\t Average Steps: 19.930\n",
            "Episode 3500\tAverage Score: 4947.75300000\t Average Steps: 23.460\n",
            "Episode 3600\tAverage Score: 4897.45100000\t Average Steps: 26.470\n",
            "Episode 3700\tAverage Score: 4997.87200000\t Average Steps: 22.280\n",
            "Episode 3800\tAverage Score: 4997.89300000\t Average Steps: 22.070\n",
            "Episode 3900\tAverage Score: 4997.86700000\t Average Steps: 22.330\n",
            "Episode 4000\tAverage Score: 4998.03800000\t Average Steps: 20.620\n",
            "Episode 4100\tAverage Score: 4997.81000000\t Average Steps: 22.900\n",
            "Episode 4200\tAverage Score: 4997.76900000\t Average Steps: 23.310\n",
            "Episode 4300\tAverage Score: 4997.55800000\t Average Steps: 25.420\n",
            "Episode 4400\tAverage Score: 4998.08900000\t Average Steps: 20.110\n",
            "Episode 4402\tAverage Score: 4998.10600000\t Average Steps: 19.940\n",
            "Episode 4409\tAverage Score: 4998.10200000\t Average Steps: 19.980\n",
            "Episode 4410\tAverage Score: 4998.10900000\t Average Steps: 19.910\n",
            "Episode 4500\tAverage Score: 4947.72100000\t Average Steps: 23.780\n",
            "Episode 4542\tAverage Score: 4998.10200000\t Average Steps: 19.980\n",
            "Episode 4545\tAverage Score: 4998.11100000\t Average Steps: 19.890\n",
            "Episode 4546\tAverage Score: 4998.11300000\t Average Steps: 19.870\n",
            "Episode 4547\tAverage Score: 4998.11400000\t Average Steps: 19.860\n",
            "Episode 4548\tAverage Score: 4998.11300000\t Average Steps: 19.870\n",
            "Episode 4549\tAverage Score: 4998.12000000\t Average Steps: 19.800\n",
            "Episode 4550\tAverage Score: 4998.12500000\t Average Steps: 19.750\n",
            "Episode 4551\tAverage Score: 4998.13700000\t Average Steps: 19.630\n",
            "Episode 4552\tAverage Score: 4998.13100000\t Average Steps: 19.690\n",
            "Episode 4553\tAverage Score: 4998.13900000\t Average Steps: 19.610\n",
            "Episode 4554\tAverage Score: 4998.12500000\t Average Steps: 19.750\n",
            "Episode 4555\tAverage Score: 4998.12100000\t Average Steps: 19.790\n",
            "Episode 4556\tAverage Score: 4998.11600000\t Average Steps: 19.840\n",
            "Episode 4557\tAverage Score: 4998.16100000\t Average Steps: 19.390\n",
            "Episode 4558\tAverage Score: 4998.14600000\t Average Steps: 19.540\n",
            "Episode 4559\tAverage Score: 4998.10500000\t Average Steps: 19.950\n",
            "Episode 4560\tAverage Score: 4998.11600000\t Average Steps: 19.840\n",
            "Episode 4561\tAverage Score: 4998.13200000\t Average Steps: 19.680\n",
            "Episode 4562\tAverage Score: 4998.11400000\t Average Steps: 19.860\n",
            "Episode 4563\tAverage Score: 4998.12800000\t Average Steps: 19.720\n",
            "Episode 4564\tAverage Score: 4998.12900000\t Average Steps: 19.710\n",
            "Episode 4565\tAverage Score: 4998.15700000\t Average Steps: 19.430\n",
            "Episode 4566\tAverage Score: 4998.13800000\t Average Steps: 19.620\n",
            "Episode 4567\tAverage Score: 4998.15400000\t Average Steps: 19.460\n",
            "Episode 4568\tAverage Score: 4998.17300000\t Average Steps: 19.270\n",
            "Episode 4569\tAverage Score: 4998.19100000\t Average Steps: 19.090\n",
            "Episode 4570\tAverage Score: 4998.20300000\t Average Steps: 18.970\n",
            "Episode 4571\tAverage Score: 4998.20400000\t Average Steps: 18.960\n",
            "Episode 4572\tAverage Score: 4998.19500000\t Average Steps: 19.050\n",
            "Episode 4573\tAverage Score: 4998.16100000\t Average Steps: 19.390\n",
            "Episode 4574\tAverage Score: 4998.16800000\t Average Steps: 19.320\n",
            "Episode 4575\tAverage Score: 4998.14700000\t Average Steps: 19.530\n",
            "Episode 4576\tAverage Score: 4998.13700000\t Average Steps: 19.630\n",
            "Episode 4577\tAverage Score: 4998.13300000\t Average Steps: 19.670\n",
            "Episode 4578\tAverage Score: 4998.12700000\t Average Steps: 19.730\n",
            "Episode 4579\tAverage Score: 4998.13800000\t Average Steps: 19.620\n",
            "Episode 4580\tAverage Score: 4998.14900000\t Average Steps: 19.510\n",
            "Episode 4581\tAverage Score: 4998.12700000\t Average Steps: 19.730\n",
            "Episode 4582\tAverage Score: 4998.12100000\t Average Steps: 19.790\n",
            "Episode 4583\tAverage Score: 4998.13300000\t Average Steps: 19.670\n",
            "Episode 4584\tAverage Score: 4998.15400000\t Average Steps: 19.460\n",
            "Episode 4585\tAverage Score: 4998.14200000\t Average Steps: 19.580\n",
            "Episode 4586\tAverage Score: 4998.14500000\t Average Steps: 19.550\n",
            "Episode 4587\tAverage Score: 4998.14400000\t Average Steps: 19.560\n",
            "Episode 4588\tAverage Score: 4998.12700000\t Average Steps: 19.730\n",
            "Episode 4589\tAverage Score: 4998.14100000\t Average Steps: 19.590\n",
            "Episode 4590\tAverage Score: 4998.13000000\t Average Steps: 19.700\n",
            "Episode 4591\tAverage Score: 4998.11400000\t Average Steps: 19.860\n",
            "Episode 4600\tAverage Score: 4998.06300000\t Average Steps: 20.370\n",
            "Episode 4700\tAverage Score: 4998.03200000\t Average Steps: 20.680\n",
            "Episode 4718\tAverage Score: 4998.10400000\t Average Steps: 19.960\n",
            "Episode 4800\tAverage Score: 4997.82000000\t Average Steps: 22.800\n",
            "Episode 4898\tAverage Score: 4998.18600000\t Average Steps: 19.140\n",
            "Episode 4899\tAverage Score: 4998.18800000\t Average Steps: 19.120\n",
            "Episode 4900\tAverage Score: 4998.20800000\t Average Steps: 18.920\n",
            "Episode 4901\tAverage Score: 4998.21800000\t Average Steps: 18.820\n",
            "Episode 4902\tAverage Score: 4998.20500000\t Average Steps: 18.950\n",
            "Episode 4903\tAverage Score: 4998.24600000\t Average Steps: 18.540\n",
            "Episode 4904\tAverage Score: 4998.20900000\t Average Steps: 18.910\n",
            "Episode 4905\tAverage Score: 4998.20800000\t Average Steps: 18.920\n",
            "Episode 4906\tAverage Score: 4998.19300000\t Average Steps: 19.070\n",
            "Episode 4907\tAverage Score: 4998.19500000\t Average Steps: 19.050\n",
            "Episode 4908\tAverage Score: 4998.17900000\t Average Steps: 19.210\n",
            "Episode 4909\tAverage Score: 4998.17900000\t Average Steps: 19.210\n",
            "Episode 4910\tAverage Score: 4998.18800000\t Average Steps: 19.120\n",
            "Episode 4911\tAverage Score: 4998.18700000\t Average Steps: 19.130\n",
            "Episode 4912\tAverage Score: 4998.17500000\t Average Steps: 19.250\n",
            "Episode 4913\tAverage Score: 4998.17700000\t Average Steps: 19.230\n",
            "Episode 4914\tAverage Score: 4998.21800000\t Average Steps: 18.820\n",
            "Episode 4915\tAverage Score: 4998.22500000\t Average Steps: 18.750\n",
            "Episode 4916\tAverage Score: 4998.22000000\t Average Steps: 18.800\n",
            "Episode 4917\tAverage Score: 4998.25300000\t Average Steps: 18.470\n",
            "Episode 4918\tAverage Score: 4998.27300000\t Average Steps: 18.270\n",
            "Episode 4919\tAverage Score: 4998.26800000\t Average Steps: 18.320\n",
            "Episode 4920\tAverage Score: 4998.22700000\t Average Steps: 18.730\n",
            "Episode 4921\tAverage Score: 4998.22900000\t Average Steps: 18.710\n",
            "Episode 4922\tAverage Score: 4998.20700000\t Average Steps: 18.930\n",
            "Episode 4923\tAverage Score: 4998.21100000\t Average Steps: 18.890\n",
            "Episode 4924\tAverage Score: 4998.21000000\t Average Steps: 18.900\n",
            "Episode 4925\tAverage Score: 4998.21500000\t Average Steps: 18.850\n",
            "Episode 4926\tAverage Score: 4998.19900000\t Average Steps: 19.010\n",
            "Episode 4927\tAverage Score: 4998.19100000\t Average Steps: 19.090\n",
            "Episode 4928\tAverage Score: 4998.17300000\t Average Steps: 19.270\n",
            "Episode 4929\tAverage Score: 4998.19500000\t Average Steps: 19.050\n",
            "Episode 4930\tAverage Score: 4998.20800000\t Average Steps: 18.920\n",
            "Episode 4931\tAverage Score: 4998.20700000\t Average Steps: 18.930\n",
            "Episode 4932\tAverage Score: 4998.20000000\t Average Steps: 19.000\n",
            "Episode 4933\tAverage Score: 4998.21700000\t Average Steps: 18.830\n",
            "Episode 4934\tAverage Score: 4998.19300000\t Average Steps: 19.070\n",
            "Episode 4935\tAverage Score: 4998.21000000\t Average Steps: 18.900\n",
            "Episode 4936\tAverage Score: 4998.23300000\t Average Steps: 18.670\n",
            "Episode 4937\tAverage Score: 4998.19200000\t Average Steps: 19.080\n",
            "Episode 4938\tAverage Score: 4998.20200000\t Average Steps: 18.980\n",
            "Episode 4939\tAverage Score: 4998.19900000\t Average Steps: 19.010\n",
            "Episode 4940\tAverage Score: 4998.16800000\t Average Steps: 19.320\n",
            "Episode 4941\tAverage Score: 4998.14300000\t Average Steps: 19.570\n",
            "Episode 4942\tAverage Score: 4998.14600000\t Average Steps: 19.540\n",
            "Episode 4943\tAverage Score: 4998.16000000\t Average Steps: 19.400\n",
            "Episode 4944\tAverage Score: 4998.17700000\t Average Steps: 19.230\n",
            "Episode 4945\tAverage Score: 4998.17600000\t Average Steps: 19.240\n",
            "Episode 4946\tAverage Score: 4998.20600000\t Average Steps: 18.940\n",
            "Episode 4947\tAverage Score: 4998.17400000\t Average Steps: 19.260\n",
            "Episode 4948\tAverage Score: 4998.20300000\t Average Steps: 18.970\n",
            "Episode 4949\tAverage Score: 4998.22500000\t Average Steps: 18.750\n",
            "Episode 4950\tAverage Score: 4998.22000000\t Average Steps: 18.800\n",
            "Episode 4951\tAverage Score: 4998.22000000\t Average Steps: 18.800\n",
            "Episode 4952\tAverage Score: 4998.21500000\t Average Steps: 18.850\n",
            "Episode 4953\tAverage Score: 4998.22800000\t Average Steps: 18.720\n",
            "Episode 4954\tAverage Score: 4998.19600000\t Average Steps: 19.040\n",
            "Episode 4955\tAverage Score: 4998.20300000\t Average Steps: 18.970\n",
            "Episode 4956\tAverage Score: 4998.23000000\t Average Steps: 18.700\n",
            "Episode 4957\tAverage Score: 4998.21700000\t Average Steps: 18.830\n",
            "Episode 4958\tAverage Score: 4998.20100000\t Average Steps: 18.990\n",
            "Episode 4959\tAverage Score: 4998.18500000\t Average Steps: 19.150\n",
            "Episode 4960\tAverage Score: 4998.18100000\t Average Steps: 19.190\n",
            "Episode 4961\tAverage Score: 4998.17900000\t Average Steps: 19.210\n",
            "Episode 4962\tAverage Score: 4998.17400000\t Average Steps: 19.260\n",
            "Episode 4963\tAverage Score: 4998.19300000\t Average Steps: 19.070\n",
            "Episode 4964\tAverage Score: 4998.19200000\t Average Steps: 19.080\n",
            "Episode 4965\tAverage Score: 4998.16700000\t Average Steps: 19.330\n",
            "Episode 4966\tAverage Score: 4998.16800000\t Average Steps: 19.320\n",
            "Episode 4967\tAverage Score: 4998.15100000\t Average Steps: 19.490\n",
            "Episode 4968\tAverage Score: 4998.15600000\t Average Steps: 19.440\n",
            "Episode 4969\tAverage Score: 4998.17500000\t Average Steps: 19.250\n",
            "Episode 4970\tAverage Score: 4998.19600000\t Average Steps: 19.040\n",
            "Episode 4971\tAverage Score: 4998.19200000\t Average Steps: 19.080\n",
            "Episode 4972\tAverage Score: 4998.19100000\t Average Steps: 19.090\n",
            "Episode 4973\tAverage Score: 4998.17500000\t Average Steps: 19.250\n",
            "Episode 4974\tAverage Score: 4998.17900000\t Average Steps: 19.210\n",
            "Episode 4975\tAverage Score: 4998.19000000\t Average Steps: 19.100\n",
            "Episode 4976\tAverage Score: 4998.20400000\t Average Steps: 18.960\n",
            "Episode 4977\tAverage Score: 4998.19100000\t Average Steps: 19.090\n",
            "Episode 4978\tAverage Score: 4998.21200000\t Average Steps: 18.880\n",
            "Episode 4979\tAverage Score: 4998.22200000\t Average Steps: 18.780\n",
            "Episode 4980\tAverage Score: 4998.22800000\t Average Steps: 18.720\n",
            "Episode 4981\tAverage Score: 4998.22300000\t Average Steps: 18.770\n",
            "Episode 4982\tAverage Score: 4998.22200000\t Average Steps: 18.780\n",
            "Episode 4983\tAverage Score: 4998.18100000\t Average Steps: 19.190\n",
            "Episode 4984\tAverage Score: 4998.19600000\t Average Steps: 19.040\n",
            "Episode 4985\tAverage Score: 4998.21700000\t Average Steps: 18.830\n",
            "Episode 4986\tAverage Score: 4998.20300000\t Average Steps: 18.970\n",
            "Episode 4987\tAverage Score: 4998.21000000\t Average Steps: 18.900\n",
            "Episode 4988\tAverage Score: 4998.20100000\t Average Steps: 18.990\n",
            "Episode 4989\tAverage Score: 4998.22600000\t Average Steps: 18.740\n",
            "Episode 4990\tAverage Score: 4998.21000000\t Average Steps: 18.900\n",
            "Episode 4991\tAverage Score: 4998.23400000\t Average Steps: 18.660\n",
            "Episode 4992\tAverage Score: 4998.23400000\t Average Steps: 18.660\n",
            "Episode 4993\tAverage Score: 4998.17500000\t Average Steps: 19.250\n",
            "Episode 4994\tAverage Score: 4998.18300000\t Average Steps: 19.170\n",
            "Episode 4995\tAverage Score: 4998.17900000\t Average Steps: 19.210\n",
            "Episode 4996\tAverage Score: 4998.18100000\t Average Steps: 19.190\n",
            "Episode 4997\tAverage Score: 4998.15500000\t Average Steps: 19.450\n",
            "Episode 4998\tAverage Score: 4998.15500000\t Average Steps: 19.450\n",
            "Episode 4999\tAverage Score: 4998.15800000\t Average Steps: 19.420\n",
            "Episode 5000\tAverage Score: 4998.15400000\t Average Steps: 19.460\n"
          ]
        }
      ],
      "source": [
        "# Environment details\n",
        "state_shape = env.observation_space.shape\n",
        "action_size = env.action_space.n\n",
        "\n",
        "\n",
        "# Initialize policy\n",
        "policy = PolicyNetwork(state_shape=state_shape, action_size=action_size, seed=40).to(device)\n",
        "optimizer = optim.Adam(policy.parameters(), lr=LEARNING_RATE)\n",
        "scores, steps = train(policy, optimizer, env, NUM_OF_EPISODE, MAX_STEPS, DISCOUNT_FACTOR, [500, 800, 1500])"
      ]
    },
    {
      "cell_type": "markdown",
      "metadata": {},
      "source": [
        "save the model"
      ]
    },
    {
      "cell_type": "code",
      "execution_count": 46,
      "metadata": {},
      "outputs": [],
      "source": [
        "# np.savetxt(os.path.join(base_dir, 'drive/MyDrive/RL_MODELS/policy_gradients_scores.txt'), np.array(scores), fmt='%d')\n",
        "# np.savetxt(os.path.join(base_dir, 'drive/MyDrive/RL_MODELS/policy_gradients_steps.txt'), np.array(steps), fmt='%d')\n",
        "#  TODO: change it\n",
        "np.savetxt(os.path.join(base_dir, 'policy_gradients_scores.txt'), np.array(scores), fmt='%d')\n",
        "np.savetxt(os.path.join(base_dir, 'policy_gradients_steps.txt'), np.array(steps), fmt='%d')\n",
        "\n",
        "MODEL_PATH = 'OPTIMAL_policy_gradients.pth'\n",
        "torch.save(policy.state_dict(), MODEL_PATH)"
      ]
    },
    {
      "cell_type": "markdown",
      "metadata": {},
      "source": [
        "plot the scores"
      ]
    },
    {
      "cell_type": "code",
      "execution_count": 47,
      "metadata": {},
      "outputs": [
        {
          "data": {
            "image/png": "[encoded data removed]",
            "text/plain": [
              "<Figure size 1000x800 with 1 Axes>"
            ]
          },
          "metadata": {},
          "output_type": "display_data"
        }
      ],
      "source": [
        "fig = plt.figure()\n",
        "ax = fig.add_subplot(111)\n",
        "plt.plot(np.arange(1, len(scores)+1), scores)\n",
        "plt.ylabel('Score')\n",
        "plt.xlabel('Episode #')\n",
        "plt.show()"
      ]
    },
    {
      "cell_type": "markdown",
      "metadata": {},
      "source": [
        "plot the steps"
      ]
    },
    {
      "cell_type": "code",
      "execution_count": 48,
      "metadata": {},
      "outputs": [
        {
          "data": {
            "image/png": "[encoded data removed]",
            "text/plain": [
              "<Figure size 1000x800 with 1 Axes>"
            ]
          },
          "metadata": {},
          "output_type": "display_data"
        }
      ],
      "source": [
        "# plot the steps\n",
        "fig = plt.figure()\n",
        "ax = fig.add_subplot(111)\n",
        "plt.plot(np.arange(1, len(steps)+1), steps)\n",
        "plt.ylabel('Total Steps')\n",
        "plt.xlabel('Episode #')\n",
        "plt.show()"
      ]
    },
    {
      "cell_type": "code",
      "execution_count": null,
      "metadata": {},
      "outputs": [],
      "source": []
    },
    {
      "cell_type": "markdown",
      "metadata": {},
      "source": [
        "## Videos"
      ]
    },
    {
      "cell_type": "code",
      "execution_count": 31,
      "metadata": {},
      "outputs": [
        {
          "data": {
            "text/plain": [
              "PolicyNetwork(\n",
              "  (conv): Sequential(\n",
              "    (0): Conv2d(1, 32, kernel_size=(8, 8), stride=(4, 4))\n",
              "    (1): ReLU()\n",
              "    (2): Conv2d(32, 64, kernel_size=(4, 4), stride=(2, 2))\n",
              "    (3): ReLU()\n",
              "    (4): Conv2d(64, 64, kernel_size=(3, 3), stride=(1, 1))\n",
              "    (5): ReLU()\n",
              "  )\n",
              "  (fc): Sequential(\n",
              "    (0): Linear(in_features=12544, out_features=128, bias=True)\n",
              "    (1): ReLU()\n",
              "    (2): Dropout(p=0.6, inplace=False)\n",
              "    (3): Linear(in_features=128, out_features=3, bias=True)\n",
              "    (4): Softmax(dim=-1)\n",
              "  )\n",
              ")"
            ]
          },
          "execution_count": 31,
          "metadata": {},
          "output_type": "execute_result"
        }
      ],
      "source": [
        "policy.eval()  # Set the network to evaluation mode if you're using it for inference"
      ]
    },
    {
      "cell_type": "markdown",
      "metadata": {},
      "source": [
        "### Video with trained solver"
      ]
    },
    {
      "cell_type": "code",
      "execution_count": null,
      "metadata": {},
      "outputs": [],
      "source": [
        "embed_mp4(os.path.join(base_dir, f'pg_vid_final.mp4'))"
      ]
    },
    {
      "cell_type": "markdown",
      "metadata": {},
      "source": [
        "### Videos from training in progress"
      ]
    },
    {
      "cell_type": "markdown",
      "metadata": {},
      "source": [
        "Video after 500 episodes training"
      ]
    },
    {
      "cell_type": "code",
      "execution_count": 38,
      "metadata": {},
      "outputs": [
        {
          "data": {
            "text/html": [
              "\n",
              "  <video width=\"640\" height=\"480\" controls>\n",
              "    <source src=\"data:video/mp4;base64,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\" type=\"video/mp4\">\n",
              "  Your browser does not support the video tag.\n",
              "  </video>"
            ],
            "text/plain": [
              "<IPython.core.display.HTML object>"
            ]
          },
          "execution_count": 38,
          "metadata": {},
          "output_type": "execute_result"
        }
      ],
      "source": [
        "embed_mp4(os.path.join(base_dir, 'pg_vid_500.mp4'))"
      ]
    },
    {
      "cell_type": "markdown",
      "metadata": {},
      "source": [
        "Video after 800 episodes training"
      ]
    },
    {
      "cell_type": "code",
      "execution_count": 39,
      "metadata": {},
      "outputs": [
        {
          "data": {
            "text/html": [
              "\n",
              "  <video width=\"640\" height=\"480\" controls>\n",
              "    <source src=\"data:video/mp4;base64,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\" type=\"video/mp4\">\n",
              "  Your browser does not support the video tag.\n",
              "  </video>"
            ],
            "text/plain": [
              "<IPython.core.display.HTML object>"
            ]
          },
          "execution_count": 39,
          "metadata": {},
          "output_type": "execute_result"
        }
      ],
      "source": [
        "embed_mp4(os.path.join(base_dir, 'pg_vid_800.mp4'))"
      ]
    },
    {
      "cell_type": "markdown",
      "metadata": {},
      "source": [
        "Video after 1500 episodes training"
      ]
    },
    {
      "cell_type": "code",
      "execution_count": 40,
      "metadata": {},
      "outputs": [
        {
          "data": {
            "text/html": [
              "\n",
              "  <video width=\"640\" height=\"480\" controls>\n",
              "    <source src=\"data:video/mp4;base64,AAAAIGZ0eXBpc29tAAACAGlzb21pc28yYXZjMW1wNDEAAAAIZnJlZQAADsltZGF0AAACoQYF//+d3EXpvebZSLeWLNgg2SPu73gyNjQgLSBjb3JlIDE0OCAtIEguMjY0L01QRUctNCBBVkMgY29kZWMgLSBDb3B5bGVmdCAyMDAzLTIwMTYgLSBodHRwOi8vd3d3LnZpZGVvbGFuLm9yZy94MjY0Lmh0bWwgLSBvcHRpb25zOiBjYWJhYz0xIHJlZj0zIGRlYmxvY2s9MTowOjAgYW5hbHlzZT0weDM6MHgxMTMgbWU9aGV4IHN1Ym1lPTcgcHN5PTEgcHN5X3JkPTEuMDA6MC4wMCBtaXhlZF9yZWY9MSBtZV9yYW5nZT0xNiBjaHJvbWFfbWU9MSB0cmVsbGlzPTEgOHg4ZGN0PTEgY3FtPTAgZGVhZHpvbmU9MjEsMTEgZmFzdF9wc2tpcD0xIGNocm9tYV9xcF9vZmZzZXQ9LTIgdGhyZWFkcz0xMCBsb29rYWhlYWRfdGhyZWFkcz0xIHNsaWNlZF90aHJlYWRzPTAgbnI9MCBkZWNpbWF0ZT0xIGludGVybGFjZWQ9MCBibHVyYXlfY29tcGF0PTAgY29uc3RyYWluZWRfaW50cmE9MCBiZnJhbWVzPTMgYl9weXJhbWlkPTIgYl9hZGFwdD0xIGJfYmlhcz0wIGRpcmVjdD0xIHdlaWdodGI9MSBvcGVuX2dvcD0wIHdlaWdodHA9MiBrZXlpbnQ9MjUwIGtleWludF9taW49MTAgc2NlbmVjdXQ9NDAgaW50cmFfcmVmcmVzaD0wIHJjX2xvb2thaGVhZD00MCByYz1jcmYgbWJ0cmVlPTEgY3JmPTI1LjAgcWNvbXA9MC42MCBxcG1pbj0wIHFwbWF4PTY5IHFwc3RlcD00IGlwX3JhdGlvPTEuNDAgYXE9MToxLjAwAIAAAAR9ZYiEABH//vdonwKZICKgOSVxSXbT4H/q2dwfI/pAwALuNcP5a5yj3xvS/6B8R2BDzTha09d8opKjFLyaINBD2X/tYBBj6eOPmayF97q2DuPZoA6bgkJVFdDOkjjtQxZ6947yGC+W59S1dpGyOaHAO/b69dcYdd//TvRsYz4kIdftci2L3EU0M4OFydY0Tj9yHJF/Nrs1RcC83tLJptcD310GSK1QAdh0cuUdR2L6A5OjeuYry4GiOGhepeu+jF06+PrabCNLJdbnThBc/TxLToRJRFU8wYnrlwfEmPSBHij1wx3nVTezlOufxBgM6N068kWLzdg3jdk6gJZtU+9CLaej40Kcig1LmideU91kuk+/+MV7NN8/cAZi8dZ/MYMvV9Bg1r4bgpn10G0M4OFkq1PLEegYr2ab5+iUJACD/ZOg2hnBwsvSsRo2ngJ9qGp3TvNLBn4s7XZaigdZOhOjBKaadBYTPwDIHGs13363M4R0TmVOuDI2RzQQlJ2HZVDFezTfP4AZ6mdXRGYwZer6DG+Ejjktc6jWoJNnsePNUMA29HQbQzg4WUCVKmUwMV7NN8/fLiWjn3eYwZer6C0XuTZAAQ4GkUrTFXUa1BJqzDUvgphhxHaHZd2Ysa6vMnz//YqcZwu7/BAnOcMI4Km5LGFpmnKBxPtx2H1C93Elz04zuvGZbjEGVUAeqoM4n0pu7Bsp+WdLKVzwrwHEEpMeiIElmbvM1nlcoapByZrJ8wlHFECPpygU9bHpVKVhUxjC0xfAOWWe3FNfuB6JzlgQ1l/LVe40Xf8iEAumzK2U845uTPUdgAAAP09hntDIbtO2SoNqM/XkKoKByzv1TdappEjzH/hf//vcDSjyzZ/4MyZdy9fiM8+qV+tsOFbIK1SgpZfphv37YUbqEDFZjZLjxxnDd/dGXqlvHe/+79U8exEugf8i2f1UVEn23XjwJU5hWZ8XBKu8i88ji+wDtU4NGM3ixkj0Xqi8Hu1VEnSO938BjDle45WS0vMQR+Z6m+8ItKGYQL+adqKBn2oVx5MFXU3WwK5q/d80KNT3husGn2qMohEnArceM3R25V/hRpYIAbgyNkc0UINxqDtFE/DFCoEQ4WKPTg2UNVW4T4lkjUAAdJddD89STVmJfh4wxN9/wwhJSfonb2zj/MPdtO0JWKtVEeE7AvvGdVg8EZdTH1nRuO7oAKCWqUConCNzChd/9NhGjyzaxp4JY6EdDmjIHGs131B+3hIX4wZer6DFJXoTyE/HxE4ACBZJMFkrSTjgWa01U6hOVD5MumEvYRzQKqaTLSccU0M4OFxVb71JCyQY/L5+TVULnfztOnpXqDtK1PwQnkZ4wgePue6URYr1oNFyNS5onXlWPXp/Yl04poZwcLkTxgAAAwB++2icE6wrjl6voNpSiODeJJxwLNd9IIDGba/GDL1fQWcZMaxH8YMvV9Basbdmk2o1qCTZ6T41S9irphL2Ec0EdjNW3p6d6Nkc0UWbNuOY6gkgcazXfS45YAAAK0or2w0BAMaBAAAAxkGaJGxBH/6plgAOTnNa+INuIA3JK871KqbtveHLsSR5+WBqfplfjS4Xsl0Uq+PTDvNe6D1VRAT9/kmJ2ZlEK4Fwvaus0+cs2nCA8k77jRKF3usj9VBE+Z429bTV1ZjYTsu+FhK6l/O88af4JkuaKZZ9ARSrN5yy6PRbRi+jRxI0tX6DqbDJCsbyz/0ggF0qfpD9B9PyE8ItTW+okoi4xtoMZEGPcgD1COMbwSiKLTtU8GV5suco9Sk7TTDkQqYCyO35sBDMCAAAAK9BnkJ4h38ADI/Ah45Gd/4p5+7ABCONUSdPKESXIIBQXNjl22C3nRYIpenb05quhWANiCmvno0zPyTxy7JP76qCJyY5kxYV7QseLZIJpaHjJlU/O0bHHFhxLFWfNsMpvpyxWZzN6fzgQwP6bDe+I0Ua6vJGQE1WVdhIZBu4xEc69MjyKrhbYesfgdF6sCKVM3VnMJDYA07VkKaQgJqHpOc2gMJJjClrsnj3NS9ESlQRAAAArgGeYXRDfwAQ2Lnxk8T7piKumACW5OOSozEpsM34gP8XrO7bBKqpMZ7cbyxkbkcUAhYXJi3Ivlh0giPvkgfmB0mDQWD2uZSEVZbJPN1uCFK9x52jBj9ONee1nzbDv0QNoGJhiNeWh+7oPmZfuaLjFXlDICarKuIG6l0MjJLeWSVmUzwtsPTrw6isvxBnmbqzdK6BrRWVxrgQY3V9ugXCjpQJhyH42Ldq3VCNaJAoIAAAAK0BnmNqQ38ADy+9UW8T7piKumACW5OOSozEpsM34gP8XrO7bBKqpMZ7cbyxkbkcUAhYXJi3Ivlh0giPvkgfmB0mDQWD2uZSEVZbJPN1uCFK9x52jBj9ONee1nzbDv0QNoDIushkYexmo7I5e4WrjFXlDICarKuwkMjf8fJ7eWSVmUzwtsPTrw6isvxBnmbqzdK6BrRWVxrgQYEBNSD8KOlAmHIfjYt2rdUI1DBVrQAAAPNBmmhJqEFomUwIIf/+qZYAC7hNFczSi+w7X3qiAFhgBfQCB4EAUDTwRrplQ7IGrFa5+PdeKQskVQTOCEQWkSOXXZ2rYKWysaPkdkdqShpq9fMv02Qxz3UKhx9/wUFLgIoS3PbiZNh+T5Vijuu8ikPvAScMXGwK0FttWbdsCzM7iOSWOwm7v2+w1LKl7SsobrDVpdd9tTe/PhBk3nxT1FfJbN4K36tKIXhVxKKp2ym4M5+y8SPZJ8AXeKrYTJaliZwcsjsZEK/xPgd3ME7sd2N6gH6ecEkSZh7A79m+le5ikHCP+TxqwFB8ehGp0G3oss8iYakAAAAWQZ6GRREsO/8ACjqDActap/A7X8LuXwAAAKwBnqV0Q38ADc96UjwWABO3qf1czP/3HUv7uHqxSlI8G3KZyZdDu8sZG5HFAIWFyYtyL5YdIISO5x/MDpMGf+Ucrmn/d+Eeu+/MTV5Mqn52jBj+GFoe1PVLCUaBRR7IHTva67y6i5jKR+Fru/DKoC34MmqyrsMAxcGOasHlnCGVM+lzI3andQ8wUEyBQCjbxWoj7mm5EqakH7zf3R290/RsqW6KG5N4a/mwdp2pAAAACgGep2pDfwAACkgAAAATQZqsSahBbJlMCCH//qmWAAAImAAAABBBnspFFSw7/wAI7rs+mFJvAAAACgGe6XRDfwAACkgAAAAKAZ7rakN/AAAKSAAAAMNBmvBJqEFsmUwIb//+jLAIKlpyAFXLruT98R5ydGrRNeS61heLm/glKJWIT1dqmOmGY4VjfJXnQkHSeBJ5eSCjW1Ka8CpcL4kWrVfEBxpkStVY6y41PHyw15Xjp+GgUt0C1SNElabqWJ9qwvOAcd3JqclwI+dhGk36cE500rF+C+RlGjN2QEZ/NUSbejhhjVyfTaBE6Usb1okrfCFWaARAf/RSz6y94MTP5QGPOtUBoFDHKHyDQ2/qZpiXWjerAuTJWcEAAACjQZ8ORRUsO/8AyRrNWQdESH08UAJI7StBWXoDG422PfBgD1RtSunQ/62lVjT3VoyjUu+3daEBu1N0d6aqDFuu5A3T+kqALiKV1js2u6m24HmPwydqyG2Y9FOBxmIf8HswEwtR5YhBspf4jN/1Zjdn7emrID9o+tJAgza8oSGtUxFiBQyp8jz2w63E9Cl0gXn4lK1yVcNNJ1GVthabZxoyoPtSoQAAAJgBny10Q38AIrvoss6OfqcsABXS67pZp80WCtfWR73G7ko1eXTofqhHGBoiX36JMVHbun7Ya0cy2IMSqW9xv4vx/h6JnikivJYSvehu8rrZS91kV0/MIhxJWkA7FItweyAUajHxpLjfETk5EI1yidWz4TnYX4yKIoznetwauHSk4FVH2ryzmIbCp0mdohu9vQZv5RaMgkmtgQAAAJcBny9qQ38BDs46pI+uL5BACNDB7RYLLecnQrRDABaV0avLprGvbP8+6LZeWUp3S+3d0V0kFRs+C14FV1e6K1qv4fU318749xp4Dg34blWdezu9xJWkAoGnOuMAe3+TDvljTYG9uDdzEUJiqdNrwW2aMGj6UGX6tBZx0X0UuXog8Ryp4oF8ag6z+gUBpVnO5jj2UwVbY91NAAAD3W1vb3YAAABsbXZoZAAAAAAAAAAAAAAAAAAAA+gAAAakAAEAAAEAAAAAAAAAAAAAAAABAAAAAAAAAAAAAAAAAAAAAQAAAAAAAAAAAAAAAAAAQAAAAAAAAAAAAAAAAAAAAAAAAAAAAAAAAAAAAAAAAAIAAAMHdHJhawAAAFx0a2hkAAAAAwAAAAAAAAAAAAAAAQAAAAAAAAakAAAAAAAAAAAAAAAAAAAAAAABAAAAAAAAAAAAAAAAAAAAAQAAAAAAAAAAAAAAAAAAQAAAAAFAAAABQAAAAAAAJGVkdHMAAAAcZWxzdAAAAAAAAAABAAAGpAAACAAAAQAAAAACf21kaWEAAAAgbWRoZAAAAAAAAAAAAAAAAAAAKAAAAEQAVcQAAAAAAC1oZGxyAAAAAAAAAAB2aWRlAAAAAAAAAAAAAAAAVmlkZW9IYW5kbGVyAAAAAiptaW5mAAAAFHZtaGQAAAABAAAAAAAAAAAAAAAkZGluZgAAABxkcmVmAAAAAAAAAAEAAAAMdXJsIAAAAAEAAAHqc3RibAAAAJZzdHNkAAAAAAAAAAEAAACGYXZjMQAAAAAAAAABAAAAAAAAAAAAAAAAAAAAAAFAAUAASAAAAEgAAAAAAAAAAQAAAAAAAAAAAAAAAAAAAAAAAAAAAAAAAAAAAAAAAAAAABj//wAAADBhdmNDAWQAFf/hABhnZAAVrNlBQKaEAAADAAQAAAMAUDxYtlgBAAVo6+csiwAAABhzdHRzAAAAAAAAAAEAAAARAAAEAAAAABRzdHNzAAAAAAAAAAEAAAABAAAAmGN0dHMAAAAAAAAAEQAAAAEAAAgAAAAAAQAAFAAAAAABAAAIAAAAAAEAAAAAAAAAAQAABAAAAAABAAAUAAAAAAEAAAgAAAAAAQAAAAAAAAABAAAEAAAAAAEAABQAAAAAAQAACAAAAAABAAAAAAAAAAEAAAQAAAAAAQAAFAAAAAABAAAIAAAAAAEAAAAAAAAAAQAABAAAAAAcc3RzYwAAAAAAAAABAAAAAQAAABEAAAABAAAAWHN0c3oAAAAAAAAAAAAAABEAAAcmAAAAygAAALMAAACyAAAAsQAAAPcAAAAaAAAAsAAAAA4AAAAXAAAAFAAAAA4AAAAOAAAAxwAAAKcAAACcAAAAmwAAABRzdGNvAAAAAAAAAAEAAAAwAAAAYnVkdGEAAABabWV0YQAAAAAAAAAhaGRscgAAAAAAAAAAbWRpcmFwcGwAAAAAAAAAAAAAAAAtaWxzdAAAACWpdG9vAAAAHWRhdGEAAAABAAAAAExhdmY1Ny41Ni4xMDE=\" type=\"video/mp4\">\n",
              "  Your browser does not support the video tag.\n",
              "  </video>"
            ],
            "text/plain": [
              "<IPython.core.display.HTML object>"
            ]
          },
          "execution_count": 40,
          "metadata": {},
          "output_type": "execute_result"
        }
      ],
      "source": [
        "embed_mp4(os.path.join(base_dir, 'pg_vid_1500.mp4'))"
      ]
    },
    {
      "cell_type": "markdown",
      "metadata": {},
      "source": [
        "## Evaluating average step count"
      ]
    },
    {
      "cell_type": "code",
      "execution_count": 41,
      "metadata": {},
      "outputs": [
        {
          "name": "stdout",
          "output_type": "stream",
          "text": [
            "avg is 50.18\n",
            "median is 36.5\n"
          ]
        }
      ],
      "source": [
        "env = EMPTYRGBImgObsWrapper(RandomEmptyEnv_10 (render_mode='rgb_array'))\n",
        "env = PreprocessWrapper(env)\n",
        "obs = env.reset()[0]\n",
        "\n",
        "steps_per_episodes = []\n",
        "num_of_games = 100\n",
        "# Evaluation\n",
        "for i in range (num_of_games):\n",
        "  obs = env.reset()[0]\n",
        "  step_count = 0\n",
        "  state = obs\n",
        "  done = False\n",
        "  total_reward = 0\n",
        "  for step in range(max_steps):\n",
        "      action, _ = policy.run(state)\n",
        "      obs, reward, done, _, _ = env.step(action)\n",
        "      step_count += 1\n",
        "      state = obs  # Get agent's position directly from the environment\n",
        "      if done:\n",
        "        break\n",
        "\n",
        "  steps_per_episodes.append(step_count)\n",
        "\n",
        "avg = sum(steps_per_episodes)/len(steps_per_episodes)\n",
        "print(f'avg is {avg}')\n",
        "median = np.median(steps_per_episodes)\n",
        "print(f'median is {median}')"
      ]
    },
    {
      "cell_type": "markdown",
      "metadata": {},
      "source": [
        "## Loading saved model for inference"
      ]
    },
    {
      "cell_type": "code",
      "execution_count": 42,
      "metadata": {},
      "outputs": [
        {
          "name": "stdout",
          "output_type": "stream",
          "text": [
            "(1, 144, 144)\n",
            "input shape: (1, 144, 144)\n"
          ]
        },
        {
          "data": {
            "text/plain": [
              "PolicyNetwork(\n",
              "  (conv): Sequential(\n",
              "    (0): Conv2d(1, 32, kernel_size=(8, 8), stride=(4, 4))\n",
              "    (1): ReLU()\n",
              "    (2): Conv2d(32, 64, kernel_size=(4, 4), stride=(2, 2))\n",
              "    (3): ReLU()\n",
              "    (4): Conv2d(64, 64, kernel_size=(3, 3), stride=(1, 1))\n",
              "    (5): ReLU()\n",
              "  )\n",
              "  (fc): Sequential(\n",
              "    (0): Linear(in_features=12544, out_features=128, bias=True)\n",
              "    (1): ReLU()\n",
              "    (2): Dropout(p=0.6, inplace=False)\n",
              "    (3): Linear(in_features=128, out_features=3, bias=True)\n",
              "    (4): Softmax(dim=-1)\n",
              "  )\n",
              ")"
            ]
          },
          "execution_count": 42,
          "metadata": {},
          "output_type": "execute_result"
        }
      ],
      "source": [
        "policy = PolicyNetwork(state_shape=state_shape, action_size=action_size, seed=40).to(device)\n",
        "policy.load_state_dict(torch.load(MODEL_PATH, map_location=device))\n",
        "policy.eval() # Set the network to evaluation mode if you're using it for inference"
      ]
    }
  ],
  "metadata": {
    "colab": {
      "provenance": []
    },
    "kernelspec": {
      "display_name": "Python 3",
      "name": "python3"
    },
    "language_info": {
      "codemirror_mode": {
        "name": "ipython",
        "version": 3
      },
      "file_extension": ".py",
      "mimetype": "text/x-python",
      "name": "python",
      "nbconvert_exporter": "python",
      "pygments_lexer": "ipython3",
      "version": "3.11.9"
    }
  },
  "nbformat": 4,
  "nbformat_minor": 0
}
